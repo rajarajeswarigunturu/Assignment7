{
  "nbformat": 4,
  "nbformat_minor": 0,
  "metadata": {
    "colab": {
      "provenance": []
    },
    "kernelspec": {
      "name": "python3",
      "display_name": "Python 3"
    },
    "language_info": {
      "name": "python"
    }
  },
  "cells": [
    {
      "cell_type": "code",
      "execution_count": 1,
      "metadata": {
        "id": "O5FxDjPRN_wF"
      },
      "outputs": [],
      "source": [
        "# 1. What is the name of the feature responsible for generating Regex objects?"
      ]
    },
    {
      "cell_type": "code",
      "source": [
        "# The feature responsible for generating Regex objects is \"Regex Engine\" or \"Regular Expression Engine.\""
      ],
      "metadata": {
        "id": "X0CFqT0EOrpB"
      },
      "execution_count": 2,
      "outputs": []
    },
    {
      "cell_type": "code",
      "source": [
        "# 2. Why do raw strings often appear in Regex objects?"
      ],
      "metadata": {
        "id": "v7M3l__tOrrm"
      },
      "execution_count": 3,
      "outputs": []
    },
    {
      "cell_type": "code",
      "source": [
        "# Raw strings are commonly used in Regex objects to avoid the need for excessive escaping of special characters."
      ],
      "metadata": {
        "id": "UJElCLpJOruM"
      },
      "execution_count": 4,
      "outputs": []
    },
    {
      "cell_type": "code",
      "source": [
        "# 3. What is the return value of the search() method?"
      ],
      "metadata": {
        "id": "hfWmLfd6Orwk"
      },
      "execution_count": 5,
      "outputs": []
    },
    {
      "cell_type": "code",
      "source": [
        "#The search() method returns a match object if it finds a match for the specified pattern.\n",
        "#  If no match is found, it returns None or null."
      ],
      "metadata": {
        "id": "kT4ewHh7OrzU"
      },
      "execution_count": 6,
      "outputs": []
    },
    {
      "cell_type": "code",
      "source": [
        "# 4. From a Match item, how do you get the actual strings that match the pattern?"
      ],
      "metadata": {
        "id": "Np-4vSDWOr20"
      },
      "execution_count": 7,
      "outputs": []
    },
    {
      "cell_type": "code",
      "source": [
        "# using the group() method or its variations."
      ],
      "metadata": {
        "id": "19es3Yu3QOPG"
      },
      "execution_count": 8,
      "outputs": []
    },
    {
      "cell_type": "code",
      "source": [
        "#5.In the regex which created from the r'(\\d\\d\\d)-(\\d\\d\\d-\\d\\d\\d\\d)',\n",
        "# what does group zero cover? Group 2? Group 1?"
      ],
      "metadata": {
        "id": "P9GSfBSPQoRw"
      },
      "execution_count": 9,
      "outputs": []
    },
    {
      "cell_type": "code",
      "source": [
        "# Group 0 cover the entire string that matches the entire pattern '(\\d\\d\\d-\\d\\d\\d-\\d\\d\\d\\d)'.\n",
        "# Group 1  to the first set of parentheses (\\d\\d\\d)\n",
        "# Group 2 corresponds to the second set of parentheses (\\d\\d\\d-\\d\\d\\d\\d)."
      ],
      "metadata": {
        "id": "BnXtOrt3RbwQ"
      },
      "execution_count": 10,
      "outputs": []
    },
    {
      "cell_type": "code",
      "source": [
        "#6. In standard expression syntax, parentheses and intervals have distinct meanings. How can you tell\n",
        "# a regex that you want it to fit real parentheses and periods?"
      ],
      "metadata": {
        "id": "SNfFq_XPUjjW"
      },
      "execution_count": 11,
      "outputs": []
    },
    {
      "cell_type": "code",
      "source": [
        "# To match a literal left parenthesis (, we  use \\(.\n",
        "# to right parenthesis ), we use \\).\n",
        "# anf for a  period . (dot), we use \\. ."
      ],
      "metadata": {
        "id": "ReTTe5BNU8wU"
      },
      "execution_count": 12,
      "outputs": []
    },
    {
      "cell_type": "code",
      "source": [
        "# 7.The findall() method returns a string list or a list of string tuples. What causes\n",
        "# it to return one of the two options?"
      ],
      "metadata": {
        "id": "IPoi1oU5VSN-"
      },
      "execution_count": 13,
      "outputs": []
    },
    {
      "cell_type": "code",
      "source": [
        "#If the regex pattern contains no capturing groups (i.e., no parentheses),\n",
        "#and the pattern \\d+ matches sequences of digits. Since there are no capturing groups in the pattern,\n",
        "# findall() returns a list of strings, where each string represents a match of the entire pattern in the text.\n",
        "\n",
        "#If the regex pattern contains capturing groups (i.e., defined by parentheses),\n",
        "# findall() will return a list of string tuples. Each tuple contains the matched groups within each match of the pattern.\n",
        "#In this case, the pattern Name: (\\w+), Age: (\\d+) contains two capturing groups. Therefore, findall() returns a list of string tuples."
      ],
      "metadata": {
        "id": "1WRQQx8KVkNP"
      },
      "execution_count": 14,
      "outputs": []
    },
    {
      "cell_type": "code",
      "source": [
        "# 8. In standard expressions, what does the | character mean?"
      ],
      "metadata": {
        "id": "BLpgeDMQZLCj"
      },
      "execution_count": 15,
      "outputs": []
    },
    {
      "cell_type": "code",
      "source": [
        "# The | character is called a pipe or vertical bar and is used as a logical OR operator, denoting alternatives."
      ],
      "metadata": {
        "id": "2EWt32idZfIh"
      },
      "execution_count": 16,
      "outputs": []
    },
    {
      "cell_type": "code",
      "source": [
        "# 9. In regular expressions, what does the character stand for?"
      ],
      "metadata": {
        "id": "80ZZMvfnZlH5"
      },
      "execution_count": 17,
      "outputs": []
    },
    {
      "cell_type": "code",
      "source": [
        "# Alphanumeric Characters: In regular expressions, alphanumeric characters (e.g., letters, digits)\n",
        "# usually represent themselves.The letter \"a\" in a regex pattern will match the literal character \"a\" in the input text.\n",
        "\n",
        "# Metacharacters: Certain characters have special meanings in regular expressions and are known as metacharacters. For example:\n",
        "\n",
        "#  . (period): Matches any character except a newline.\n",
        "#  ^ (caret): Matches the start of a string.\n",
        "#  $ (dollar sign): Matches the end of a string.\n",
        "#  *, +, ?: Quantifiers that specify the number of repetitions.\n",
        "#  []: Indicates a character class.\n",
        "#  |: Represents an OR operator.\n",
        "\n",
        "# Escape Character: The backslash \\ is used as an escape character in regular expressions.\n",
        "#  When combined with certain characters, it can change their interpretation.\n",
        "#  For instance, \\d represents any digit, while \\s represents whitespace."
      ],
      "metadata": {
        "id": "n-buNbSBZqGs"
      },
      "execution_count": 18,
      "outputs": []
    },
    {
      "cell_type": "code",
      "source": [
        "# 10.In regular expressions, what is the difference between the + and * characters?"
      ],
      "metadata": {
        "id": "akR02eBia-jw"
      },
      "execution_count": 19,
      "outputs": []
    },
    {
      "cell_type": "code",
      "source": [
        "# In regular expressions, the + and * characters are quantifiers used to\n",
        "# specify the number of times a preceding element can occur within a pattern.\n",
        "\n",
        "# \\d+ matches one or more digits. It will match strings like \"123\", \"4567\", etc.,\n",
        "# where one or more consecutive digits are present.\n",
        "\n",
        "# \\w* matches zero or more word characters (letters, digits, or underscores).\n",
        "# It will match strings like \"\", \"abc\", \"123\", \"_word\", etc., including empty strings."
      ],
      "metadata": {
        "id": "k_j2kh_Ea__W"
      },
      "execution_count": 20,
      "outputs": []
    },
    {
      "cell_type": "code",
      "source": [
        "# 11. What is the difference between {4} and {4,5} in regular expression?"
      ],
      "metadata": {
        "id": "VrFBBPEsbwJ7"
      },
      "execution_count": 21,
      "outputs": []
    },
    {
      "cell_type": "code",
      "source": [
        "# In regular expressions, {4} and {4,5} are quantifiers used to specify the exact or a\n",
        "# range of occurrences of the preceding element within a pattern."
      ],
      "metadata": {
        "id": "92lzfFbKbxWw"
      },
      "execution_count": 22,
      "outputs": []
    },
    {
      "cell_type": "code",
      "source": [
        "# 12.What do you mean by the \\d, \\w, and \\s shorthand character classes signify in regular\n",
        "# expressions?"
      ],
      "metadata": {
        "id": "OQAqIWSWcJMP"
      },
      "execution_count": 23,
      "outputs": []
    },
    {
      "cell_type": "code",
      "source": [
        "# In regular expressions,\\d, \\w, and \\s represent predefined character sets\n",
        "# and are used to match specific types of characters:\n",
        "\n",
        "#\\d: Represents any digit character. It matches a single digit from 0 to 9.\n",
        "# It's equivalent to the character range [0-9].\n",
        "\n",
        "# \\w: Represents a word character. It matches alphanumeric characters\n",
        " # (letters, digits, or underscores). Equivalent to [a-zA-Z0-9_].\n",
        " # It does not include spaces or punctuation marks.\n",
        "\n",
        "# \\s: Represents any whitespace character. It matches spaces, tabs, newline\n",
        "# characters, and other whitespace types. Equivalent to [ \\t\\n\\r\\f\\v]."
      ],
      "metadata": {
        "id": "TUjkWF9Dcgbq"
      },
      "execution_count": 24,
      "outputs": []
    },
    {
      "cell_type": "code",
      "source": [
        "# 13. What do means by \\D, \\W, and \\S shorthand character classes\n",
        "# signify in regular expressions?"
      ],
      "metadata": {
        "id": "7QTX1N_DdJa7"
      },
      "execution_count": 25,
      "outputs": []
    },
    {
      "cell_type": "code",
      "source": [
        "# In regular expressions,\\D, \\W, and \\S are negations of the character classes\n",
        "# \\d, \\w, and \\s, respectively. These negated character classes match any\n",
        "# character that is not included in their respective counterparts.\n",
        "\n",
        "# \\D: Represents any character that is not a digit.\n",
        "# It matches any character except for digits (equivalent to [^0-9]).\n",
        "\n",
        "# \\W: Represents any character that is not a word character.\n",
        "# It matches any character except for word characters\n",
        " # (equivalent to [^a-zA-Z0-9_]).\n",
        "\n",
        "# \\S: Represents any character that is not a whitespace character.\n",
        "# It matches any character except for whitespace characters\n",
        "# (equivalent to [^ \\t\\n\\r\\f\\v])."
      ],
      "metadata": {
        "id": "-Ff25tXxdSwB"
      },
      "execution_count": 26,
      "outputs": []
    },
    {
      "cell_type": "code",
      "source": [
        "#14. What is the difference between .*? and .*  ?"
      ],
      "metadata": {
        "id": "CFW4rgXvd1TG"
      },
      "execution_count": 28,
      "outputs": []
    },
    {
      "cell_type": "code",
      "source": [
        "#  .*?: This expression is a non-greedy or lazy match.\n",
        "# It matches zero or more occurrences of any character (except for newline\n",
        "#  characters \\n) but matches as few characters as possible.\n",
        "#  The ? after * makes the * quantifier lazy, causing it to match as\n",
        "#few characters as needed for the overall pattern to match.\n",
        "\n",
        "#  .*: This expression is a greedy match.\n",
        "#  It matches zero or more occurrences of any character\n",
        "# (except for newline characters \\n) and matches as many characters as possible.\n",
        "# It tries to match as many characters as it can while still allowing\n",
        "# the overall pattern to match."
      ],
      "metadata": {
        "id": "LGiqEzXdeMyf"
      },
      "execution_count": 29,
      "outputs": []
    },
    {
      "cell_type": "code",
      "source": [
        "# 15. What is the syntax for matching both numbers and lowercase letters\n",
        "# with a character class?"
      ],
      "metadata": {
        "id": "l9mllDxKetKb"
      },
      "execution_count": 30,
      "outputs": []
    },
    {
      "cell_type": "code",
      "source": [
        "# 0-9: Matches any digit from 0 to 9.\n",
        "# a-z: Matches any lowercase letter from a to z.\n",
        "# we can use this character class within your regular\n",
        "# expression pattern to match any occurrence of either a\n",
        "# lowercase letter or a digit."
      ],
      "metadata": {
        "id": "knWb7h-UewN9"
      },
      "execution_count": 31,
      "outputs": []
    },
    {
      "cell_type": "code",
      "source": [
        "# 16. What is the procedure for making a normal expression in regax case insensitive?\n",
        "\n",
        "# In regular expressions, we can make the pattern case insensitive by\n",
        "# using a flag or modifier depending on the programming language or regex\n",
        "# engine we are using. The most common way to do this is by using the i flag."
      ],
      "metadata": {
        "id": "PEJsw0PEfHMN"
      },
      "execution_count": 32,
      "outputs": []
    },
    {
      "cell_type": "code",
      "source": [
        "# 17. What does the . character normally match? What does it match\n",
        "# if re.DOTALL is passed as 2nd argument in re.compile()?"
      ],
      "metadata": {
        "id": "Eq6Sf5Ohfu7b"
      },
      "execution_count": 33,
      "outputs": []
    },
    {
      "cell_type": "code",
      "source": [
        "#In regular expressions, the . (dot) character matches any single character\n",
        "# except for a newline character (\\n) by default. It matches letters, digits,\n",
        "# whitespace, symbols, or any other character except newline characters.\n",
        "\n",
        "# When the re.DOTALL or re.S flag is passed as the second argument\n",
        "# in re.compile(), it changes the behavior of the dot . metacharacter.\n",
        "# Specifically, it makes the dot . match any character, including newline\n",
        "# characters \\n."
      ],
      "metadata": {
        "id": "iPGXp__jf3Xr"
      },
      "execution_count": 34,
      "outputs": []
    },
    {
      "cell_type": "code",
      "source": [
        "# 18. If numReg = re.compile(r'\\d+'),\n",
        "# what will numRegex.sub('X','11 drummers, 10 pipers, five rings, 4\n",
        "# hen') return?\n",
        "\n",
        "# If numReg = re.compile(r'\\d+'), and you use\n",
        "# numReg.sub('X', '11 drummers, 10 pipers, five rings, 4 hens'),\n",
        "# it will replace all sequences of digits in the input string with\n",
        "# the character 'X'.\n",
        "\n",
        "# 'X drummers, X pipers, five rings, X hens'"
      ],
      "metadata": {
        "id": "DcPQWsuXmIqx"
      },
      "execution_count": 35,
      "outputs": []
    },
    {
      "cell_type": "code",
      "source": [
        "# 19. What does passing re.VERBOSE as the 2nd argument to re.compile() allow to do?"
      ],
      "metadata": {
        "id": "n4RwL6Vpne7J"
      },
      "execution_count": 36,
      "outputs": []
    },
    {
      "cell_type": "code",
      "source": [
        "# Passing re.VERBOSE as the second argument to re.compile() in Python allows us\n",
        "# to write more readable and organized regular expressions by ignoring\n",
        "# whitespace and comments within the pattern.\n",
        "# When you use the re.VERBOSE flag, white spaces (except those within character\n",
        "#  classes) and comments that are preceded by a # are ignored in the\n",
        "# regular expression pattern. This makes it easier to add comments, line breaks,\n",
        "#  and indentation for better readability without affecting the pattern's\n",
        "# functionality."
      ],
      "metadata": {
        "id": "dXsZBXK2njPX"
      },
      "execution_count": 37,
      "outputs": []
    },
    {
      "cell_type": "code",
      "source": [
        "# 20. How would you write a regex that match a number with comma for every three digits? It must\n",
        "# match the given following:\n",
        "# '42'\n",
        "# '1,234'\n",
        "# '6,368,745'\n",
        "\n",
        "# but not the following:\n",
        "# 12,34,567' (which has only two digits between the commas)\n",
        "# 1234'(which lacks commas)"
      ],
      "metadata": {
        "id": "ZkhWqzK0oJIT"
      },
      "execution_count": 38,
      "outputs": []
    },
    {
      "cell_type": "code",
      "source": [
        "# To match numbers with commas for every three digits while ensuring that\n",
        "#  the commas are correctly placed, we can use the following regular\n",
        "# expression pattern:\n",
        "\n",
        "# the pattern r'^\\d{1,3}(,\\d{3})*$':\n",
        "\n",
        "# ^ asserts the start of the string.\n",
        "# \\d{1,3} matches one to three digits at the beginning.\n",
        "# (,\\d{3})* is a non-capturing group ( ... )* matching zero or more occurrences\n",
        "# of a comma followed by exactly three digits \\d{3}.\n",
        "# $ asserts the end of the string.\n",
        "\n",
        "# it matches strings '42', '1,234', and '6,368,745' while rejecting '12,34,567'\n",
        "# (which has only two digits between the commas) and '1234' (which lacks commas).\n",
        "\n",
        "\n",
        "\n",
        "\n",
        "\n"
      ],
      "metadata": {
        "id": "4adnSMuTpNuH"
      },
      "execution_count": 39,
      "outputs": []
    },
    {
      "cell_type": "code",
      "source": [
        "#21. How would you write a regex that matches the full name of someone whose last name is\n",
        "#Watanabe? You can assume that the first name that comes before it will always be one word that\n",
        "#begins with a capital letter. The regex must match the following:\n",
        "#'Haruto Watanabe'\n",
        "#'Alice Watanabe'\n",
        "#'RoboCop Watanabe'\n",
        "#but not the following:\n",
        "#'haruto Watanabe' (where the first name is not capitalized)\n",
        "#'Mr. Watanabe' (where the preceding word has a nonletter character)\n",
        "#'Watanabe' (which has no first name)\n",
        "#'Haruto watanabe' (where Watanabe is not capitalized)"
      ],
      "metadata": {
        "id": "SjOD9lhUqARz"
      },
      "execution_count": 40,
      "outputs": []
    },
    {
      "cell_type": "code",
      "source": [
        "#This regex pattern ensures that the first name begins with a capital letter\n",
        "#  and is followed by optional lowercase or uppercase letters. It then checks\n",
        "# for 'Watanabe' as the last name. The regex does not allow non-letter\n",
        "# characters or lowercase last names.\n",
        "#As it matches 'Haruto Watanabe', 'Alice Watanabe', and 'RoboCop Watanabe',\n",
        "# while rejecting other variations that don't adhere to the specified\n",
        "# criteria for the first and last names."
      ],
      "metadata": {
        "id": "ckominu6qmtc"
      },
      "execution_count": 41,
      "outputs": []
    },
    {
      "cell_type": "code",
      "source": [
        "# 22. How would you write a regex that matches a sentence where the first word is either Alice, Bob,\n",
        "# or Carol; the second word is either eats, pets, or throws; the third word is apples, cats, or baseballs;\n",
        "# and the sentence ends with a period? This regex should be case-insensitive. It must match the\n",
        "#following:\n",
        "# 'Alice eats apples.'\n",
        "#'Bob pets cats.'\n",
        "# 'Carol throws baseballs'\n",
        "# 'Alice throws Apples.'\n",
        "# 'BOB EATS CATS.'\n",
        "# but not the following:\n",
        "# 'RoboCop eats apples.'\n",
        "# 'ALICE THROWS FOOTBALLS.'\n",
        "# 'Carol eats 7 cats.'"
      ],
      "metadata": {
        "id": "us2sV4jZrXMD"
      },
      "execution_count": 42,
      "outputs": []
    },
    {
      "cell_type": "code",
      "source": [
        "#The pattern is r'^(Alice|Bob|Carol)\\s+(eats|pets|throws)\\s+\n",
        " # (apples|cats|baseballs)\\.$':\n",
        "\n",
        "# ^ asserts the start of the string.\n",
        "# (Alice|Bob|Carol) matches either 'Alice', 'Bob', or 'Carol' as the first word.\n",
        "# \\s+ matches one or more whitespace characters.\n",
        "# (eats|pets|throws) matches either 'eats', 'pets', or 'throws' as the second word.\n",
        "# \\s+ matches one or more whitespace characters.\n",
        "#  (apples|cats|baseballs) matches either 'apples', 'cats', or 'baseballs' as the third word.\n",
        "#  \\. matches a period at the end of the sentence.\n",
        "#  $ asserts the end of the string.\n",
        "#  This regex pattern ensures that the sentence starts with one of the\n",
        "# specified names followed by one of the specified verbs and ends with one of\n",
        "# the specified objects, ending with a period. It is case-insensitive,\n",
        "# so it matches regardless of the case used.\n",
        "\n",
        "#  it matches the specified sentences that meet the criteria and rejects\n",
        "# sentences that do not match the specified pattern."
      ],
      "metadata": {
        "id": "dhsL8cdUsJvM"
      },
      "execution_count": null,
      "outputs": []
    }
  ]
}